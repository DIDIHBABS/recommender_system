{
  "nbformat": 4,
  "nbformat_minor": 0,
  "metadata": {
    "colab": {
      "provenance": [],
      "mount_file_id": "1I3oEunGpo2BLyfTs9AmiH1ZyQ9DzT2sH",
      "authorship_tag": "ABX9TyPR89+TsG8Bo00252MzQmEZ",
      "include_colab_link": true
    },
    "kernelspec": {
      "name": "python3",
      "display_name": "Python 3"
    },
    "language_info": {
      "name": "python"
    }
  },
  "cells": [
    {
      "cell_type": "markdown",
      "metadata": {
        "id": "view-in-github",
        "colab_type": "text"
      },
      "source": [
        "<a href=\"https://colab.research.google.com/github/DIDIHBABS/recommender_system/blob/main/collaborative_filtering.ipynb\" target=\"_parent\"><img src=\"https://colab.research.google.com/assets/colab-badge.svg\" alt=\"Open In Colab\"/></a>"
      ]
    },
    {
      "cell_type": "code",
      "execution_count": 21,
      "metadata": {
        "id": "3SHwJPJrQjsm"
      },
      "outputs": [],
      "source": [
        "\n",
        "import pandas as pd\n",
        "import numpy as np\n",
        "import matplotlib.pyplot as plt\n",
        "import seaborn as sns\n",
        "import os\n",
        "\n",
        "from nltk.stem.porter import PorterStemmer\n",
        "from sklearn.feature_extraction.text import CountVectorizer\n",
        "from sklearn.metrics.pairwise import cosine_similarity"
      ]
    },
    {
      "cell_type": "code",
      "source": [
        "data = pd.read_csv(\"/content/drive/MyDrive/Colab Notebooks/collaborative_filtering /Coursera 2.csv\")"
      ],
      "metadata": {
        "id": "OUIzaXCdSCe4"
      },
      "execution_count": 3,
      "outputs": []
    },
    {
      "cell_type": "code",
      "source": [
        "data.head()"
      ],
      "metadata": {
        "colab": {
          "base_uri": "https://localhost:8080/",
          "height": 310
        },
        "id": "evvRu18fSbT3",
        "outputId": "7ba0ff35-5340-41b6-c33e-9df83ec08ee8"
      },
      "execution_count": 4,
      "outputs": [
        {
          "output_type": "execute_result",
          "data": {
            "text/plain": [
              "                                         Course Name  \\\n",
              "0  Write A Feature Length Screenplay For Film Or ...   \n",
              "1  Business Strategy: Business Model Canvas Analy...   \n",
              "2                      Silicon Thin Film Solar Cells   \n",
              "3                               Finance for Managers   \n",
              "4       Retrieve Data using Single-Table SQL Queries   \n",
              "\n",
              "                  University Difficulty Level Course Rating  \\\n",
              "0  Michigan State University         Beginner           4.8   \n",
              "1   Coursera Project Network         Beginner           4.8   \n",
              "2        �cole Polytechnique         Advanced           4.1   \n",
              "3       IESE Business School     Intermediate           4.8   \n",
              "4   Coursera Project Network         Beginner           4.6   \n",
              "\n",
              "                                          Course URL  \\\n",
              "0  https://www.coursera.org/learn/write-a-feature...   \n",
              "1  https://www.coursera.org/learn/canvas-analysis...   \n",
              "2  https://www.coursera.org/learn/silicon-thin-fi...   \n",
              "3  https://www.coursera.org/learn/operational-fin...   \n",
              "4  https://www.coursera.org/learn/single-table-sq...   \n",
              "\n",
              "                                  Course Description  \\\n",
              "0  Write a Full Length Feature Film Script  In th...   \n",
              "1  By the end of this guided project, you will be...   \n",
              "2  This course consists of a general presentation...   \n",
              "3  When it comes to numbers, there is always more...   \n",
              "4  In this course you�ll learn how to effectively...   \n",
              "\n",
              "                                              Skills  \n",
              "0  Drama  Comedy  peering  screenwriting  film  D...  \n",
              "1  Finance  business plan  persona (user experien...  \n",
              "2  chemistry  physics  Solar Energy  film  lambda...  \n",
              "3  accounts receivable  dupont analysis  analysis...  \n",
              "4  Data Analysis  select (sql)  database manageme...  "
            ],
            "text/html": [
              "\n",
              "  <div id=\"df-92cb4257-1293-4ee1-8d64-a23d92c9a7c1\" class=\"colab-df-container\">\n",
              "    <div>\n",
              "<style scoped>\n",
              "    .dataframe tbody tr th:only-of-type {\n",
              "        vertical-align: middle;\n",
              "    }\n",
              "\n",
              "    .dataframe tbody tr th {\n",
              "        vertical-align: top;\n",
              "    }\n",
              "\n",
              "    .dataframe thead th {\n",
              "        text-align: right;\n",
              "    }\n",
              "</style>\n",
              "<table border=\"1\" class=\"dataframe\">\n",
              "  <thead>\n",
              "    <tr style=\"text-align: right;\">\n",
              "      <th></th>\n",
              "      <th>Course Name</th>\n",
              "      <th>University</th>\n",
              "      <th>Difficulty Level</th>\n",
              "      <th>Course Rating</th>\n",
              "      <th>Course URL</th>\n",
              "      <th>Course Description</th>\n",
              "      <th>Skills</th>\n",
              "    </tr>\n",
              "  </thead>\n",
              "  <tbody>\n",
              "    <tr>\n",
              "      <th>0</th>\n",
              "      <td>Write A Feature Length Screenplay For Film Or ...</td>\n",
              "      <td>Michigan State University</td>\n",
              "      <td>Beginner</td>\n",
              "      <td>4.8</td>\n",
              "      <td>https://www.coursera.org/learn/write-a-feature...</td>\n",
              "      <td>Write a Full Length Feature Film Script  In th...</td>\n",
              "      <td>Drama  Comedy  peering  screenwriting  film  D...</td>\n",
              "    </tr>\n",
              "    <tr>\n",
              "      <th>1</th>\n",
              "      <td>Business Strategy: Business Model Canvas Analy...</td>\n",
              "      <td>Coursera Project Network</td>\n",
              "      <td>Beginner</td>\n",
              "      <td>4.8</td>\n",
              "      <td>https://www.coursera.org/learn/canvas-analysis...</td>\n",
              "      <td>By the end of this guided project, you will be...</td>\n",
              "      <td>Finance  business plan  persona (user experien...</td>\n",
              "    </tr>\n",
              "    <tr>\n",
              "      <th>2</th>\n",
              "      <td>Silicon Thin Film Solar Cells</td>\n",
              "      <td>�cole Polytechnique</td>\n",
              "      <td>Advanced</td>\n",
              "      <td>4.1</td>\n",
              "      <td>https://www.coursera.org/learn/silicon-thin-fi...</td>\n",
              "      <td>This course consists of a general presentation...</td>\n",
              "      <td>chemistry  physics  Solar Energy  film  lambda...</td>\n",
              "    </tr>\n",
              "    <tr>\n",
              "      <th>3</th>\n",
              "      <td>Finance for Managers</td>\n",
              "      <td>IESE Business School</td>\n",
              "      <td>Intermediate</td>\n",
              "      <td>4.8</td>\n",
              "      <td>https://www.coursera.org/learn/operational-fin...</td>\n",
              "      <td>When it comes to numbers, there is always more...</td>\n",
              "      <td>accounts receivable  dupont analysis  analysis...</td>\n",
              "    </tr>\n",
              "    <tr>\n",
              "      <th>4</th>\n",
              "      <td>Retrieve Data using Single-Table SQL Queries</td>\n",
              "      <td>Coursera Project Network</td>\n",
              "      <td>Beginner</td>\n",
              "      <td>4.6</td>\n",
              "      <td>https://www.coursera.org/learn/single-table-sq...</td>\n",
              "      <td>In this course you�ll learn how to effectively...</td>\n",
              "      <td>Data Analysis  select (sql)  database manageme...</td>\n",
              "    </tr>\n",
              "  </tbody>\n",
              "</table>\n",
              "</div>\n",
              "    <div class=\"colab-df-buttons\">\n",
              "\n",
              "  <div class=\"colab-df-container\">\n",
              "    <button class=\"colab-df-convert\" onclick=\"convertToInteractive('df-92cb4257-1293-4ee1-8d64-a23d92c9a7c1')\"\n",
              "            title=\"Convert this dataframe to an interactive table.\"\n",
              "            style=\"display:none;\">\n",
              "\n",
              "  <svg xmlns=\"http://www.w3.org/2000/svg\" height=\"24px\" viewBox=\"0 -960 960 960\">\n",
              "    <path d=\"M120-120v-720h720v720H120Zm60-500h600v-160H180v160Zm220 220h160v-160H400v160Zm0 220h160v-160H400v160ZM180-400h160v-160H180v160Zm440 0h160v-160H620v160ZM180-180h160v-160H180v160Zm440 0h160v-160H620v160Z\"/>\n",
              "  </svg>\n",
              "    </button>\n",
              "\n",
              "  <style>\n",
              "    .colab-df-container {\n",
              "      display:flex;\n",
              "      gap: 12px;\n",
              "    }\n",
              "\n",
              "    .colab-df-convert {\n",
              "      background-color: #E8F0FE;\n",
              "      border: none;\n",
              "      border-radius: 50%;\n",
              "      cursor: pointer;\n",
              "      display: none;\n",
              "      fill: #1967D2;\n",
              "      height: 32px;\n",
              "      padding: 0 0 0 0;\n",
              "      width: 32px;\n",
              "    }\n",
              "\n",
              "    .colab-df-convert:hover {\n",
              "      background-color: #E2EBFA;\n",
              "      box-shadow: 0px 1px 2px rgba(60, 64, 67, 0.3), 0px 1px 3px 1px rgba(60, 64, 67, 0.15);\n",
              "      fill: #174EA6;\n",
              "    }\n",
              "\n",
              "    .colab-df-buttons div {\n",
              "      margin-bottom: 4px;\n",
              "    }\n",
              "\n",
              "    [theme=dark] .colab-df-convert {\n",
              "      background-color: #3B4455;\n",
              "      fill: #D2E3FC;\n",
              "    }\n",
              "\n",
              "    [theme=dark] .colab-df-convert:hover {\n",
              "      background-color: #434B5C;\n",
              "      box-shadow: 0px 1px 3px 1px rgba(0, 0, 0, 0.15);\n",
              "      filter: drop-shadow(0px 1px 2px rgba(0, 0, 0, 0.3));\n",
              "      fill: #FFFFFF;\n",
              "    }\n",
              "  </style>\n",
              "\n",
              "    <script>\n",
              "      const buttonEl =\n",
              "        document.querySelector('#df-92cb4257-1293-4ee1-8d64-a23d92c9a7c1 button.colab-df-convert');\n",
              "      buttonEl.style.display =\n",
              "        google.colab.kernel.accessAllowed ? 'block' : 'none';\n",
              "\n",
              "      async function convertToInteractive(key) {\n",
              "        const element = document.querySelector('#df-92cb4257-1293-4ee1-8d64-a23d92c9a7c1');\n",
              "        const dataTable =\n",
              "          await google.colab.kernel.invokeFunction('convertToInteractive',\n",
              "                                                    [key], {});\n",
              "        if (!dataTable) return;\n",
              "\n",
              "        const docLinkHtml = 'Like what you see? Visit the ' +\n",
              "          '<a target=\"_blank\" href=https://colab.research.google.com/notebooks/data_table.ipynb>data table notebook</a>'\n",
              "          + ' to learn more about interactive tables.';\n",
              "        element.innerHTML = '';\n",
              "        dataTable['output_type'] = 'display_data';\n",
              "        await google.colab.output.renderOutput(dataTable, element);\n",
              "        const docLink = document.createElement('div');\n",
              "        docLink.innerHTML = docLinkHtml;\n",
              "        element.appendChild(docLink);\n",
              "      }\n",
              "    </script>\n",
              "  </div>\n",
              "\n",
              "\n",
              "<div id=\"df-c2021f5d-d038-4541-bf19-56e6930ec7bb\">\n",
              "  <button class=\"colab-df-quickchart\" onclick=\"quickchart('df-c2021f5d-d038-4541-bf19-56e6930ec7bb')\"\n",
              "            title=\"Suggest charts\"\n",
              "            style=\"display:none;\">\n",
              "\n",
              "<svg xmlns=\"http://www.w3.org/2000/svg\" height=\"24px\"viewBox=\"0 0 24 24\"\n",
              "     width=\"24px\">\n",
              "    <g>\n",
              "        <path d=\"M19 3H5c-1.1 0-2 .9-2 2v14c0 1.1.9 2 2 2h14c1.1 0 2-.9 2-2V5c0-1.1-.9-2-2-2zM9 17H7v-7h2v7zm4 0h-2V7h2v10zm4 0h-2v-4h2v4z\"/>\n",
              "    </g>\n",
              "</svg>\n",
              "  </button>\n",
              "\n",
              "<style>\n",
              "  .colab-df-quickchart {\n",
              "      --bg-color: #E8F0FE;\n",
              "      --fill-color: #1967D2;\n",
              "      --hover-bg-color: #E2EBFA;\n",
              "      --hover-fill-color: #174EA6;\n",
              "      --disabled-fill-color: #AAA;\n",
              "      --disabled-bg-color: #DDD;\n",
              "  }\n",
              "\n",
              "  [theme=dark] .colab-df-quickchart {\n",
              "      --bg-color: #3B4455;\n",
              "      --fill-color: #D2E3FC;\n",
              "      --hover-bg-color: #434B5C;\n",
              "      --hover-fill-color: #FFFFFF;\n",
              "      --disabled-bg-color: #3B4455;\n",
              "      --disabled-fill-color: #666;\n",
              "  }\n",
              "\n",
              "  .colab-df-quickchart {\n",
              "    background-color: var(--bg-color);\n",
              "    border: none;\n",
              "    border-radius: 50%;\n",
              "    cursor: pointer;\n",
              "    display: none;\n",
              "    fill: var(--fill-color);\n",
              "    height: 32px;\n",
              "    padding: 0;\n",
              "    width: 32px;\n",
              "  }\n",
              "\n",
              "  .colab-df-quickchart:hover {\n",
              "    background-color: var(--hover-bg-color);\n",
              "    box-shadow: 0 1px 2px rgba(60, 64, 67, 0.3), 0 1px 3px 1px rgba(60, 64, 67, 0.15);\n",
              "    fill: var(--button-hover-fill-color);\n",
              "  }\n",
              "\n",
              "  .colab-df-quickchart-complete:disabled,\n",
              "  .colab-df-quickchart-complete:disabled:hover {\n",
              "    background-color: var(--disabled-bg-color);\n",
              "    fill: var(--disabled-fill-color);\n",
              "    box-shadow: none;\n",
              "  }\n",
              "\n",
              "  .colab-df-spinner {\n",
              "    border: 2px solid var(--fill-color);\n",
              "    border-color: transparent;\n",
              "    border-bottom-color: var(--fill-color);\n",
              "    animation:\n",
              "      spin 1s steps(1) infinite;\n",
              "  }\n",
              "\n",
              "  @keyframes spin {\n",
              "    0% {\n",
              "      border-color: transparent;\n",
              "      border-bottom-color: var(--fill-color);\n",
              "      border-left-color: var(--fill-color);\n",
              "    }\n",
              "    20% {\n",
              "      border-color: transparent;\n",
              "      border-left-color: var(--fill-color);\n",
              "      border-top-color: var(--fill-color);\n",
              "    }\n",
              "    30% {\n",
              "      border-color: transparent;\n",
              "      border-left-color: var(--fill-color);\n",
              "      border-top-color: var(--fill-color);\n",
              "      border-right-color: var(--fill-color);\n",
              "    }\n",
              "    40% {\n",
              "      border-color: transparent;\n",
              "      border-right-color: var(--fill-color);\n",
              "      border-top-color: var(--fill-color);\n",
              "    }\n",
              "    60% {\n",
              "      border-color: transparent;\n",
              "      border-right-color: var(--fill-color);\n",
              "    }\n",
              "    80% {\n",
              "      border-color: transparent;\n",
              "      border-right-color: var(--fill-color);\n",
              "      border-bottom-color: var(--fill-color);\n",
              "    }\n",
              "    90% {\n",
              "      border-color: transparent;\n",
              "      border-bottom-color: var(--fill-color);\n",
              "    }\n",
              "  }\n",
              "</style>\n",
              "\n",
              "  <script>\n",
              "    async function quickchart(key) {\n",
              "      const quickchartButtonEl =\n",
              "        document.querySelector('#' + key + ' button');\n",
              "      quickchartButtonEl.disabled = true;  // To prevent multiple clicks.\n",
              "      quickchartButtonEl.classList.add('colab-df-spinner');\n",
              "      try {\n",
              "        const charts = await google.colab.kernel.invokeFunction(\n",
              "            'suggestCharts', [key], {});\n",
              "      } catch (error) {\n",
              "        console.error('Error during call to suggestCharts:', error);\n",
              "      }\n",
              "      quickchartButtonEl.classList.remove('colab-df-spinner');\n",
              "      quickchartButtonEl.classList.add('colab-df-quickchart-complete');\n",
              "    }\n",
              "    (() => {\n",
              "      let quickchartButtonEl =\n",
              "        document.querySelector('#df-c2021f5d-d038-4541-bf19-56e6930ec7bb button');\n",
              "      quickchartButtonEl.style.display =\n",
              "        google.colab.kernel.accessAllowed ? 'block' : 'none';\n",
              "    })();\n",
              "  </script>\n",
              "</div>\n",
              "    </div>\n",
              "  </div>\n"
            ]
          },
          "metadata": {},
          "execution_count": 4
        }
      ]
    },
    {
      "cell_type": "code",
      "source": [
        "data.info()"
      ],
      "metadata": {
        "colab": {
          "base_uri": "https://localhost:8080/"
        },
        "id": "nn-AposnSc_j",
        "outputId": "2addc415-8491-4e43-e1f9-7a354bf62b22"
      },
      "execution_count": 5,
      "outputs": [
        {
          "output_type": "stream",
          "name": "stdout",
          "text": [
            "<class 'pandas.core.frame.DataFrame'>\n",
            "RangeIndex: 3522 entries, 0 to 3521\n",
            "Data columns (total 7 columns):\n",
            " #   Column              Non-Null Count  Dtype \n",
            "---  ------              --------------  ----- \n",
            " 0   Course Name         3522 non-null   object\n",
            " 1   University          3522 non-null   object\n",
            " 2   Difficulty Level    3522 non-null   object\n",
            " 3   Course Rating       3522 non-null   object\n",
            " 4   Course URL          3522 non-null   object\n",
            " 5   Course Description  3522 non-null   object\n",
            " 6   Skills              3522 non-null   object\n",
            "dtypes: object(7)\n",
            "memory usage: 192.7+ KB\n"
          ]
        }
      ]
    },
    {
      "cell_type": "code",
      "source": [
        "data['Course Name'] = data['Course Name'].str.replace(' ',',')\n",
        "data['Course Name'] = data['Course Name'].str.replace(',,',',')\n",
        "data['Course Name'] = data['Course Name'].str.replace(':','')\n",
        "data['Course Description'] = data['Course Description'].str.replace(' ',',')\n",
        "data['Course Description'] = data['Course Description'].str.replace(',,',',')\n",
        "data['Course Description'] = data['Course Description'].str.replace('_','')\n",
        "data['Course Description'] = data['Course Description'].str.replace(':','')\n",
        "data['Course Description'] = data['Course Description'].str.replace('(','')\n",
        "data['Course Description'] = data['Course Description'].str.replace(')','')\n",
        "\n",
        "#removing paranthesis from skills columns\n",
        "data['Skills'] = data['Skills'].str.replace('(','')\n",
        "data['Skills'] = data['Skills'].str.replace(')','')"
      ],
      "metadata": {
        "colab": {
          "base_uri": "https://localhost:8080/"
        },
        "id": "4AyJXJO8ShXa",
        "outputId": "218f70f1-4da8-43bf-a4e1-0e8762277e7d"
      },
      "execution_count": 6,
      "outputs": [
        {
          "output_type": "stream",
          "name": "stderr",
          "text": [
            "<ipython-input-6-99c096756b38>:8: FutureWarning: The default value of regex will change from True to False in a future version. In addition, single character regular expressions will *not* be treated as literal strings when regex=True.\n",
            "  data['Course Description'] = data['Course Description'].str.replace('(','')\n",
            "<ipython-input-6-99c096756b38>:9: FutureWarning: The default value of regex will change from True to False in a future version. In addition, single character regular expressions will *not* be treated as literal strings when regex=True.\n",
            "  data['Course Description'] = data['Course Description'].str.replace(')','')\n",
            "<ipython-input-6-99c096756b38>:12: FutureWarning: The default value of regex will change from True to False in a future version. In addition, single character regular expressions will *not* be treated as literal strings when regex=True.\n",
            "  data['Skills'] = data['Skills'].str.replace('(','')\n",
            "<ipython-input-6-99c096756b38>:13: FutureWarning: The default value of regex will change from True to False in a future version. In addition, single character regular expressions will *not* be treated as literal strings when regex=True.\n",
            "  data['Skills'] = data['Skills'].str.replace(')','')\n"
          ]
        }
      ]
    },
    {
      "cell_type": "code",
      "source": [
        "data.head()"
      ],
      "metadata": {
        "colab": {
          "base_uri": "https://localhost:8080/",
          "height": 519
        },
        "id": "8Hwyb3hBS7ZV",
        "outputId": "e35db8df-dbdf-4f94-d7b7-659ce351445c"
      },
      "execution_count": 7,
      "outputs": [
        {
          "output_type": "execute_result",
          "data": {
            "text/plain": [
              "                                         Course Name  \\\n",
              "0  Write,A,Feature,Length,Screenplay,For,Film,Or,...   \n",
              "1  Business,Strategy,Business,Model,Canvas,Analys...   \n",
              "2                      Silicon,Thin,Film,Solar,Cells   \n",
              "3                               Finance,for,Managers   \n",
              "4       Retrieve,Data,using,Single-Table,SQL,Queries   \n",
              "\n",
              "                  University Difficulty Level Course Rating  \\\n",
              "0  Michigan State University         Beginner           4.8   \n",
              "1   Coursera Project Network         Beginner           4.8   \n",
              "2        �cole Polytechnique         Advanced           4.1   \n",
              "3       IESE Business School     Intermediate           4.8   \n",
              "4   Coursera Project Network         Beginner           4.6   \n",
              "\n",
              "                                          Course URL  \\\n",
              "0  https://www.coursera.org/learn/write-a-feature...   \n",
              "1  https://www.coursera.org/learn/canvas-analysis...   \n",
              "2  https://www.coursera.org/learn/silicon-thin-fi...   \n",
              "3  https://www.coursera.org/learn/operational-fin...   \n",
              "4  https://www.coursera.org/learn/single-table-sq...   \n",
              "\n",
              "                                  Course Description  \\\n",
              "0  Write,a,Full,Length,Feature,Film,Script,In,thi...   \n",
              "1  By,the,end,of,this,guided,project,you,will,be,...   \n",
              "2  This,course,consists,of,a,general,presentation...   \n",
              "3  When,it,comes,to,numbers,there,is,always,more,...   \n",
              "4  In,this,course,you�ll,learn,how,to,effectively...   \n",
              "\n",
              "                                              Skills  \n",
              "0  Drama  Comedy  peering  screenwriting  film  D...  \n",
              "1  Finance  business plan  persona user experienc...  \n",
              "2  chemistry  physics  Solar Energy  film  lambda...  \n",
              "3  accounts receivable  dupont analysis  analysis...  \n",
              "4  Data Analysis  select sql  database management...  "
            ],
            "text/html": [
              "\n",
              "  <div id=\"df-bff37cab-18cc-42fc-aeba-bbcc0e8bc775\" class=\"colab-df-container\">\n",
              "    <div>\n",
              "<style scoped>\n",
              "    .dataframe tbody tr th:only-of-type {\n",
              "        vertical-align: middle;\n",
              "    }\n",
              "\n",
              "    .dataframe tbody tr th {\n",
              "        vertical-align: top;\n",
              "    }\n",
              "\n",
              "    .dataframe thead th {\n",
              "        text-align: right;\n",
              "    }\n",
              "</style>\n",
              "<table border=\"1\" class=\"dataframe\">\n",
              "  <thead>\n",
              "    <tr style=\"text-align: right;\">\n",
              "      <th></th>\n",
              "      <th>Course Name</th>\n",
              "      <th>University</th>\n",
              "      <th>Difficulty Level</th>\n",
              "      <th>Course Rating</th>\n",
              "      <th>Course URL</th>\n",
              "      <th>Course Description</th>\n",
              "      <th>Skills</th>\n",
              "    </tr>\n",
              "  </thead>\n",
              "  <tbody>\n",
              "    <tr>\n",
              "      <th>0</th>\n",
              "      <td>Write,A,Feature,Length,Screenplay,For,Film,Or,...</td>\n",
              "      <td>Michigan State University</td>\n",
              "      <td>Beginner</td>\n",
              "      <td>4.8</td>\n",
              "      <td>https://www.coursera.org/learn/write-a-feature...</td>\n",
              "      <td>Write,a,Full,Length,Feature,Film,Script,In,thi...</td>\n",
              "      <td>Drama  Comedy  peering  screenwriting  film  D...</td>\n",
              "    </tr>\n",
              "    <tr>\n",
              "      <th>1</th>\n",
              "      <td>Business,Strategy,Business,Model,Canvas,Analys...</td>\n",
              "      <td>Coursera Project Network</td>\n",
              "      <td>Beginner</td>\n",
              "      <td>4.8</td>\n",
              "      <td>https://www.coursera.org/learn/canvas-analysis...</td>\n",
              "      <td>By,the,end,of,this,guided,project,you,will,be,...</td>\n",
              "      <td>Finance  business plan  persona user experienc...</td>\n",
              "    </tr>\n",
              "    <tr>\n",
              "      <th>2</th>\n",
              "      <td>Silicon,Thin,Film,Solar,Cells</td>\n",
              "      <td>�cole Polytechnique</td>\n",
              "      <td>Advanced</td>\n",
              "      <td>4.1</td>\n",
              "      <td>https://www.coursera.org/learn/silicon-thin-fi...</td>\n",
              "      <td>This,course,consists,of,a,general,presentation...</td>\n",
              "      <td>chemistry  physics  Solar Energy  film  lambda...</td>\n",
              "    </tr>\n",
              "    <tr>\n",
              "      <th>3</th>\n",
              "      <td>Finance,for,Managers</td>\n",
              "      <td>IESE Business School</td>\n",
              "      <td>Intermediate</td>\n",
              "      <td>4.8</td>\n",
              "      <td>https://www.coursera.org/learn/operational-fin...</td>\n",
              "      <td>When,it,comes,to,numbers,there,is,always,more,...</td>\n",
              "      <td>accounts receivable  dupont analysis  analysis...</td>\n",
              "    </tr>\n",
              "    <tr>\n",
              "      <th>4</th>\n",
              "      <td>Retrieve,Data,using,Single-Table,SQL,Queries</td>\n",
              "      <td>Coursera Project Network</td>\n",
              "      <td>Beginner</td>\n",
              "      <td>4.6</td>\n",
              "      <td>https://www.coursera.org/learn/single-table-sq...</td>\n",
              "      <td>In,this,course,you�ll,learn,how,to,effectively...</td>\n",
              "      <td>Data Analysis  select sql  database management...</td>\n",
              "    </tr>\n",
              "  </tbody>\n",
              "</table>\n",
              "</div>\n",
              "    <div class=\"colab-df-buttons\">\n",
              "\n",
              "  <div class=\"colab-df-container\">\n",
              "    <button class=\"colab-df-convert\" onclick=\"convertToInteractive('df-bff37cab-18cc-42fc-aeba-bbcc0e8bc775')\"\n",
              "            title=\"Convert this dataframe to an interactive table.\"\n",
              "            style=\"display:none;\">\n",
              "\n",
              "  <svg xmlns=\"http://www.w3.org/2000/svg\" height=\"24px\" viewBox=\"0 -960 960 960\">\n",
              "    <path d=\"M120-120v-720h720v720H120Zm60-500h600v-160H180v160Zm220 220h160v-160H400v160Zm0 220h160v-160H400v160ZM180-400h160v-160H180v160Zm440 0h160v-160H620v160ZM180-180h160v-160H180v160Zm440 0h160v-160H620v160Z\"/>\n",
              "  </svg>\n",
              "    </button>\n",
              "\n",
              "  <style>\n",
              "    .colab-df-container {\n",
              "      display:flex;\n",
              "      gap: 12px;\n",
              "    }\n",
              "\n",
              "    .colab-df-convert {\n",
              "      background-color: #E8F0FE;\n",
              "      border: none;\n",
              "      border-radius: 50%;\n",
              "      cursor: pointer;\n",
              "      display: none;\n",
              "      fill: #1967D2;\n",
              "      height: 32px;\n",
              "      padding: 0 0 0 0;\n",
              "      width: 32px;\n",
              "    }\n",
              "\n",
              "    .colab-df-convert:hover {\n",
              "      background-color: #E2EBFA;\n",
              "      box-shadow: 0px 1px 2px rgba(60, 64, 67, 0.3), 0px 1px 3px 1px rgba(60, 64, 67, 0.15);\n",
              "      fill: #174EA6;\n",
              "    }\n",
              "\n",
              "    .colab-df-buttons div {\n",
              "      margin-bottom: 4px;\n",
              "    }\n",
              "\n",
              "    [theme=dark] .colab-df-convert {\n",
              "      background-color: #3B4455;\n",
              "      fill: #D2E3FC;\n",
              "    }\n",
              "\n",
              "    [theme=dark] .colab-df-convert:hover {\n",
              "      background-color: #434B5C;\n",
              "      box-shadow: 0px 1px 3px 1px rgba(0, 0, 0, 0.15);\n",
              "      filter: drop-shadow(0px 1px 2px rgba(0, 0, 0, 0.3));\n",
              "      fill: #FFFFFF;\n",
              "    }\n",
              "  </style>\n",
              "\n",
              "    <script>\n",
              "      const buttonEl =\n",
              "        document.querySelector('#df-bff37cab-18cc-42fc-aeba-bbcc0e8bc775 button.colab-df-convert');\n",
              "      buttonEl.style.display =\n",
              "        google.colab.kernel.accessAllowed ? 'block' : 'none';\n",
              "\n",
              "      async function convertToInteractive(key) {\n",
              "        const element = document.querySelector('#df-bff37cab-18cc-42fc-aeba-bbcc0e8bc775');\n",
              "        const dataTable =\n",
              "          await google.colab.kernel.invokeFunction('convertToInteractive',\n",
              "                                                    [key], {});\n",
              "        if (!dataTable) return;\n",
              "\n",
              "        const docLinkHtml = 'Like what you see? Visit the ' +\n",
              "          '<a target=\"_blank\" href=https://colab.research.google.com/notebooks/data_table.ipynb>data table notebook</a>'\n",
              "          + ' to learn more about interactive tables.';\n",
              "        element.innerHTML = '';\n",
              "        dataTable['output_type'] = 'display_data';\n",
              "        await google.colab.output.renderOutput(dataTable, element);\n",
              "        const docLink = document.createElement('div');\n",
              "        docLink.innerHTML = docLinkHtml;\n",
              "        element.appendChild(docLink);\n",
              "      }\n",
              "    </script>\n",
              "  </div>\n",
              "\n",
              "\n",
              "<div id=\"df-2dbb4e5b-2a43-49a7-8626-7f790d79e15b\">\n",
              "  <button class=\"colab-df-quickchart\" onclick=\"quickchart('df-2dbb4e5b-2a43-49a7-8626-7f790d79e15b')\"\n",
              "            title=\"Suggest charts\"\n",
              "            style=\"display:none;\">\n",
              "\n",
              "<svg xmlns=\"http://www.w3.org/2000/svg\" height=\"24px\"viewBox=\"0 0 24 24\"\n",
              "     width=\"24px\">\n",
              "    <g>\n",
              "        <path d=\"M19 3H5c-1.1 0-2 .9-2 2v14c0 1.1.9 2 2 2h14c1.1 0 2-.9 2-2V5c0-1.1-.9-2-2-2zM9 17H7v-7h2v7zm4 0h-2V7h2v10zm4 0h-2v-4h2v4z\"/>\n",
              "    </g>\n",
              "</svg>\n",
              "  </button>\n",
              "\n",
              "<style>\n",
              "  .colab-df-quickchart {\n",
              "      --bg-color: #E8F0FE;\n",
              "      --fill-color: #1967D2;\n",
              "      --hover-bg-color: #E2EBFA;\n",
              "      --hover-fill-color: #174EA6;\n",
              "      --disabled-fill-color: #AAA;\n",
              "      --disabled-bg-color: #DDD;\n",
              "  }\n",
              "\n",
              "  [theme=dark] .colab-df-quickchart {\n",
              "      --bg-color: #3B4455;\n",
              "      --fill-color: #D2E3FC;\n",
              "      --hover-bg-color: #434B5C;\n",
              "      --hover-fill-color: #FFFFFF;\n",
              "      --disabled-bg-color: #3B4455;\n",
              "      --disabled-fill-color: #666;\n",
              "  }\n",
              "\n",
              "  .colab-df-quickchart {\n",
              "    background-color: var(--bg-color);\n",
              "    border: none;\n",
              "    border-radius: 50%;\n",
              "    cursor: pointer;\n",
              "    display: none;\n",
              "    fill: var(--fill-color);\n",
              "    height: 32px;\n",
              "    padding: 0;\n",
              "    width: 32px;\n",
              "  }\n",
              "\n",
              "  .colab-df-quickchart:hover {\n",
              "    background-color: var(--hover-bg-color);\n",
              "    box-shadow: 0 1px 2px rgba(60, 64, 67, 0.3), 0 1px 3px 1px rgba(60, 64, 67, 0.15);\n",
              "    fill: var(--button-hover-fill-color);\n",
              "  }\n",
              "\n",
              "  .colab-df-quickchart-complete:disabled,\n",
              "  .colab-df-quickchart-complete:disabled:hover {\n",
              "    background-color: var(--disabled-bg-color);\n",
              "    fill: var(--disabled-fill-color);\n",
              "    box-shadow: none;\n",
              "  }\n",
              "\n",
              "  .colab-df-spinner {\n",
              "    border: 2px solid var(--fill-color);\n",
              "    border-color: transparent;\n",
              "    border-bottom-color: var(--fill-color);\n",
              "    animation:\n",
              "      spin 1s steps(1) infinite;\n",
              "  }\n",
              "\n",
              "  @keyframes spin {\n",
              "    0% {\n",
              "      border-color: transparent;\n",
              "      border-bottom-color: var(--fill-color);\n",
              "      border-left-color: var(--fill-color);\n",
              "    }\n",
              "    20% {\n",
              "      border-color: transparent;\n",
              "      border-left-color: var(--fill-color);\n",
              "      border-top-color: var(--fill-color);\n",
              "    }\n",
              "    30% {\n",
              "      border-color: transparent;\n",
              "      border-left-color: var(--fill-color);\n",
              "      border-top-color: var(--fill-color);\n",
              "      border-right-color: var(--fill-color);\n",
              "    }\n",
              "    40% {\n",
              "      border-color: transparent;\n",
              "      border-right-color: var(--fill-color);\n",
              "      border-top-color: var(--fill-color);\n",
              "    }\n",
              "    60% {\n",
              "      border-color: transparent;\n",
              "      border-right-color: var(--fill-color);\n",
              "    }\n",
              "    80% {\n",
              "      border-color: transparent;\n",
              "      border-right-color: var(--fill-color);\n",
              "      border-bottom-color: var(--fill-color);\n",
              "    }\n",
              "    90% {\n",
              "      border-color: transparent;\n",
              "      border-bottom-color: var(--fill-color);\n",
              "    }\n",
              "  }\n",
              "</style>\n",
              "\n",
              "  <script>\n",
              "    async function quickchart(key) {\n",
              "      const quickchartButtonEl =\n",
              "        document.querySelector('#' + key + ' button');\n",
              "      quickchartButtonEl.disabled = true;  // To prevent multiple clicks.\n",
              "      quickchartButtonEl.classList.add('colab-df-spinner');\n",
              "      try {\n",
              "        const charts = await google.colab.kernel.invokeFunction(\n",
              "            'suggestCharts', [key], {});\n",
              "      } catch (error) {\n",
              "        console.error('Error during call to suggestCharts:', error);\n",
              "      }\n",
              "      quickchartButtonEl.classList.remove('colab-df-spinner');\n",
              "      quickchartButtonEl.classList.add('colab-df-quickchart-complete');\n",
              "    }\n",
              "    (() => {\n",
              "      let quickchartButtonEl =\n",
              "        document.querySelector('#df-2dbb4e5b-2a43-49a7-8626-7f790d79e15b button');\n",
              "      quickchartButtonEl.style.display =\n",
              "        google.colab.kernel.accessAllowed ? 'block' : 'none';\n",
              "    })();\n",
              "  </script>\n",
              "</div>\n",
              "    </div>\n",
              "  </div>\n"
            ]
          },
          "metadata": {},
          "execution_count": 7
        }
      ]
    },
    {
      "cell_type": "code",
      "source": [
        "data['tags'] = data['Course Name'] + data['Difficulty Level'] + data['Course Description'] + data['Skills']"
      ],
      "metadata": {
        "id": "H6bSFOypTAgp"
      },
      "execution_count": 8,
      "outputs": []
    },
    {
      "cell_type": "code",
      "source": [
        "new_df = data[['Course Name','tags']]"
      ],
      "metadata": {
        "id": "66yziwHsUTjK"
      },
      "execution_count": 9,
      "outputs": []
    },
    {
      "cell_type": "code",
      "source": [
        "new_df['tags'] = data['tags'].str.replace(',',' ')"
      ],
      "metadata": {
        "colab": {
          "base_uri": "https://localhost:8080/"
        },
        "id": "UPFEbLKNUUAN",
        "outputId": "4b9d5095-7ddc-4be5-9ae0-01a965d87773"
      },
      "execution_count": 10,
      "outputs": [
        {
          "output_type": "stream",
          "name": "stderr",
          "text": [
            "<ipython-input-10-afdec3ca82bc>:1: SettingWithCopyWarning: \n",
            "A value is trying to be set on a copy of a slice from a DataFrame.\n",
            "Try using .loc[row_indexer,col_indexer] = value instead\n",
            "\n",
            "See the caveats in the documentation: https://pandas.pydata.org/pandas-docs/stable/user_guide/indexing.html#returning-a-view-versus-a-copy\n",
            "  new_df['tags'] = data['tags'].str.replace(',',' ')\n"
          ]
        }
      ]
    },
    {
      "cell_type": "code",
      "source": [
        "new_df['Course Name'] = data['Course Name'].str.replace(',',' ')\n"
      ],
      "metadata": {
        "colab": {
          "base_uri": "https://localhost:8080/"
        },
        "id": "TUc4iS71UXJQ",
        "outputId": "7f07b6ea-707c-4832-e25d-d75558192934"
      },
      "execution_count": 11,
      "outputs": [
        {
          "output_type": "stream",
          "name": "stderr",
          "text": [
            "<ipython-input-11-6e793e9fa086>:1: SettingWithCopyWarning: \n",
            "A value is trying to be set on a copy of a slice from a DataFrame.\n",
            "Try using .loc[row_indexer,col_indexer] = value instead\n",
            "\n",
            "See the caveats in the documentation: https://pandas.pydata.org/pandas-docs/stable/user_guide/indexing.html#returning-a-view-versus-a-copy\n",
            "  new_df['Course Name'] = data['Course Name'].str.replace(',',' ')\n"
          ]
        }
      ]
    },
    {
      "cell_type": "code",
      "source": [
        "new_df.rename(columns = {'Course Name':'course_name'}, inplace = True)"
      ],
      "metadata": {
        "colab": {
          "base_uri": "https://localhost:8080/"
        },
        "id": "pXbtmDlqUay6",
        "outputId": "e948a0a4-c041-4538-b8c1-ae0c60db4301"
      },
      "execution_count": 12,
      "outputs": [
        {
          "output_type": "stream",
          "name": "stderr",
          "text": [
            "<ipython-input-12-626a084aa76c>:1: SettingWithCopyWarning: \n",
            "A value is trying to be set on a copy of a slice from a DataFrame\n",
            "\n",
            "See the caveats in the documentation: https://pandas.pydata.org/pandas-docs/stable/user_guide/indexing.html#returning-a-view-versus-a-copy\n",
            "  new_df.rename(columns = {'Course Name':'course_name'}, inplace = True)\n"
          ]
        }
      ]
    },
    {
      "cell_type": "code",
      "source": [
        "new_df['tags'] = new_df['tags'].apply(lambda x:x.lower()) #lower casing the tags column"
      ],
      "metadata": {
        "colab": {
          "base_uri": "https://localhost:8080/"
        },
        "id": "H-sONLEBUcv5",
        "outputId": "f15789b7-2c42-46a5-d7cb-466883d547c8"
      },
      "execution_count": 14,
      "outputs": [
        {
          "output_type": "stream",
          "name": "stderr",
          "text": [
            "<ipython-input-14-4cf64f7b4680>:1: SettingWithCopyWarning: \n",
            "A value is trying to be set on a copy of a slice from a DataFrame.\n",
            "Try using .loc[row_indexer,col_indexer] = value instead\n",
            "\n",
            "See the caveats in the documentation: https://pandas.pydata.org/pandas-docs/stable/user_guide/indexing.html#returning-a-view-versus-a-copy\n",
            "  new_df['tags'] = new_df['tags'].apply(lambda x:x.lower()) #lower casing the tags column\n"
          ]
        }
      ]
    },
    {
      "cell_type": "code",
      "source": [
        "cv = CountVectorizer(max_features=5000,stop_words='english')\n"
      ],
      "metadata": {
        "id": "456fi42rUem8"
      },
      "execution_count": 15,
      "outputs": []
    },
    {
      "cell_type": "code",
      "source": [
        "vectors = cv.fit_transform(new_df['tags']).toarray()"
      ],
      "metadata": {
        "id": "8CXZjwhBUk0P"
      },
      "execution_count": 16,
      "outputs": []
    },
    {
      "cell_type": "code",
      "source": [
        "ps = PorterStemmer()\n"
      ],
      "metadata": {
        "id": "b_Pr7i3sUpDX"
      },
      "execution_count": 18,
      "outputs": []
    },
    {
      "cell_type": "code",
      "source": [
        "def stem(text):\n",
        "    y=[]\n",
        "\n",
        "    for i in text.split():\n",
        "        y.append(ps.stem(i))\n",
        "\n",
        "    return \" \".join(y)"
      ],
      "metadata": {
        "id": "Y407HDr5UpA5"
      },
      "execution_count": 19,
      "outputs": []
    },
    {
      "cell_type": "code",
      "source": [
        "new_df['tags'] = new_df['tags'].apply(stem) #applying stemming on the tags column"
      ],
      "metadata": {
        "colab": {
          "base_uri": "https://localhost:8080/"
        },
        "id": "ai3EM_N7Utuo",
        "outputId": "9e3a5976-b23f-4d85-db27-800a2db58045"
      },
      "execution_count": 20,
      "outputs": [
        {
          "output_type": "stream",
          "name": "stderr",
          "text": [
            "<ipython-input-20-edae1a2ddc5e>:1: SettingWithCopyWarning: \n",
            "A value is trying to be set on a copy of a slice from a DataFrame.\n",
            "Try using .loc[row_indexer,col_indexer] = value instead\n",
            "\n",
            "See the caveats in the documentation: https://pandas.pydata.org/pandas-docs/stable/user_guide/indexing.html#returning-a-view-versus-a-copy\n",
            "  new_df['tags'] = new_df['tags'].apply(stem) #applying stemming on the tags column\n"
          ]
        }
      ]
    },
    {
      "cell_type": "code",
      "source": [
        "similarity = cosine_similarity(vectors)"
      ],
      "metadata": {
        "id": "C4hc4d6qUyoS"
      },
      "execution_count": 22,
      "outputs": []
    },
    {
      "cell_type": "code",
      "source": [
        "def recommend(course):\n",
        "    course_index = new_df[new_df['course_name'] == course].index[0]\n",
        "    distances = similarity[course_index]\n",
        "    course_list = sorted(list(enumerate(distances)),reverse=True, key=lambda x:x[1])[1:7]\n",
        "\n",
        "    for i in course_list:\n",
        "        print(new_df.iloc[i[0]].course_name)"
      ],
      "metadata": {
        "id": "Dn8hi2q3U1DF"
      },
      "execution_count": 23,
      "outputs": []
    },
    {
      "cell_type": "code",
      "source": [
        "recommend('Business Strategy Business Model Canvas Analysis with Miro')"
      ],
      "metadata": {
        "colab": {
          "base_uri": "https://localhost:8080/"
        },
        "id": "tQraHkZ2U3Ad",
        "outputId": "f5e449d5-4b21-4a96-bfcd-db4f1a5c55e2"
      },
      "execution_count": 24,
      "outputs": [
        {
          "output_type": "stream",
          "name": "stdout",
          "text": [
            "Product Development Customer Persona Development with Miro\n",
            "Product and Service Development Empathy Mapping with Miro\n",
            "Product Development Customer Journey Mapping with Miro\n",
            "Analyzing Macro-Environmental Factors Using Creately\n",
            "Business Strategy in Practice (Project-centered Course)\n",
            "Innovating with the Business Model Canvas\n"
          ]
        }
      ]
    }
  ]
}